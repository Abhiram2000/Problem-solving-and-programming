{
  "nbformat": 4,
  "nbformat_minor": 0,
  "metadata": {
    "colab": {
      "name": "Day8/9.ipynb",
      "version": "0.3.2",
      "provenance": [],
      "include_colab_link": true
    },
    "kernelspec": {
      "name": "python3",
      "display_name": "Python 3"
    }
  },
  "cells": [
    {
      "cell_type": "markdown",
      "metadata": {
        "id": "view-in-github",
        "colab_type": "text"
      },
      "source": [
        "<a href=\"https://colab.research.google.com/github/Abhiram2000/Problem-solving-and-programming/blob/master/Day8_9.ipynb\" target=\"_parent\"><img src=\"https://colab.research.google.com/assets/colab-badge.svg\" alt=\"Open In Colab\"/></a>"
      ]
    },
    {
      "cell_type": "markdown",
      "metadata": {
        "id": "dmXZnQld7P0w",
        "colab_type": "text"
      },
      "source": [
        "Day objectives\n",
        "\n",
        "1.python data structures\n",
        "   . lists\n",
        "   . Tuples\n",
        "   . Dictionaries\n",
        " . basic program sets on data strutcures\n",
        " . advanced problem set \n",
        " . contact application(Dicionary object)\n",
        "\n",
        " Data structures:\n",
        "        \n",
        "        . to store,search and sort the data  \n",
        "### New Section"
      ]
    },
    {
      "cell_type": "code",
      "metadata": {
        "id": "CpEOLPE87UE-",
        "colab_type": "code",
        "outputId": "46a04079-8f7e-4077-8b86-dc56cdd0c689",
        "colab": {
          "base_uri": "https://localhost:8080/",
          "height": 170
        }
      },
      "source": [
        "lst = [1,2,3,4,5,6]\n",
        "print(lst)\n",
        "print(lst[1])\n",
        "print(lst[0])\n",
        "print(lst[-1])\n",
        "print(lst[-2])\n",
        "print(lst[1:])\n",
        "print(lst[1:4])\n",
        "print(lst[0:])\n",
        "print(lst[-1:])\n",
        "\n"
      ],
      "execution_count": 0,
      "outputs": [
        {
          "output_type": "stream",
          "text": [
            "[1, 2, 3, 4, 5, 6]\n",
            "2\n",
            "1\n",
            "6\n",
            "5\n",
            "[2, 3, 4, 5, 6]\n",
            "[2, 3, 4]\n",
            "[1, 2, 3, 4, 5, 6]\n",
            "[6]\n"
          ],
          "name": "stdout"
        }
      ]
    },
    {
      "cell_type": "code",
      "metadata": {
        "id": "BvtYs_pt7mBI",
        "colab_type": "code",
        "outputId": "011d8c7e-aebe-4405-c4e5-9d840a114c7d",
        "colab": {
          "base_uri": "https://localhost:8080/",
          "height": 85
        }
      },
      "source": [
        "lst = [1,2,3,4,5,6,7,8,9]\n",
        "print(len(lst))\n",
        "print(lst * 2)\n",
        "print(3 in lst)\n",
        "for x in range(len(lst)):\n",
        "    print(lst[x],end=\" \")    "
      ],
      "execution_count": 0,
      "outputs": [
        {
          "output_type": "stream",
          "text": [
            "9\n",
            "[1, 2, 3, 4, 5, 6, 7, 8, 9, 1, 2, 3, 4, 5, 6, 7, 8, 9]\n",
            "True\n",
            "1 2 3 4 5 6 7 8 9 "
          ],
          "name": "stdout"
        }
      ]
    },
    {
      "cell_type": "code",
      "metadata": {
        "id": "0cR9IcedA4js",
        "colab_type": "code",
        "outputId": "440f4d28-c181-4943-aba3-7f35357222d4",
        "colab": {
          "base_uri": "https://localhost:8080/",
          "height": 119
        }
      },
      "source": [
        "lst\n",
        "print(min(lst))\n",
        "print(max(lst))\n",
        "print(sum(lst))\n",
        "print(sum(lst)/len(lst))\n",
        "print(sum(lst[::4]))\n",
        "print(sum(lst[1::2])/len(lst[1::2]))"
      ],
      "execution_count": 0,
      "outputs": [
        {
          "output_type": "stream",
          "text": [
            "1\n",
            "9\n",
            "45\n",
            "5.0\n",
            "15\n",
            "5.0\n"
          ],
          "name": "stdout"
        }
      ]
    },
    {
      "cell_type": "code",
      "metadata": {
        "id": "EmHxhu3sBEY2",
        "colab_type": "code",
        "outputId": "5af0fadb-2882-4728-84c2-262412e24b53",
        "colab": {
          "base_uri": "https://localhost:8080/",
          "height": 136
        }
      },
      "source": [
        "\n",
        "lst=[1,2,3,4]\n",
        "print(lst)\n",
        "lst.append(83) # Adding a new element at the end of list\n",
        "print(lst)\n",
        "lst.insert(4,24) # Adding an element at particular index\n",
        "print(lst)\n",
        "lst.count(18) # Return the value how many times element repeated\n",
        "print(lst.count(3))\n",
        "lst.sort() # Sort the elements in ascending order\n",
        "lst.pop # Remove the last element from list\n",
        "print(lst)\n",
        "lst.pop(1) # Remove an element from a particular index\n",
        "print(lst)\n",
        "lst1=[9,8,0]\n",
        "lst.extend(lst1) # Merge the list2 with list1\n",
        "lst\n",
        "\n"
      ],
      "execution_count": 0,
      "outputs": [
        {
          "output_type": "stream",
          "text": [
            "[1, 2, 3, 4]\n",
            "[1, 2, 3, 4, 83]\n",
            "[1, 2, 3, 4, 24, 83]\n",
            "1\n",
            "[1, 2, 3, 4, 24, 83]\n",
            "[1, 3, 4, 24, 83]\n"
          ],
          "name": "stdout"
        },
        {
          "output_type": "execute_result",
          "data": {
            "text/plain": [
              "[1, 3, 4, 24, 83, 9, 8, 0]"
            ]
          },
          "metadata": {
            "tags": []
          },
          "execution_count": 6
        }
      ]
    },
    {
      "cell_type": "code",
      "metadata": {
        "id": "cxJlXVy4_IOY",
        "colab_type": "code",
        "colab": {
          "base_uri": "https://localhost:8080/",
          "height": 34
        },
        "outputId": "1f9dd591-5d4d-4bfd-b0e1-f301b796d376"
      },
      "source": [
        "\n",
        "\n",
        "#Function\n",
        "# Input : List\n",
        "# Output : Formated Output\n",
        "# Test Case:\n",
        "# [1,2,3,4,5] -- [1,3,8,15,5]\n",
        "# [6,5,2,8,2] -- [6,12,40,4,2]\n",
        "def plot(x):\n",
        "    for i in range(len(x)):\n",
        "        if i==0 or i==len(x)-1:\n",
        "            print(x[i],end=\" \")\n",
        "        else:\n",
        "            print(x[i-1] * x[i+1],end=\" \")\n",
        "    return\n",
        "x=[1,2,3,4,5]\n",
        "plot(x)     "
      ],
      "execution_count": 8,
      "outputs": [
        {
          "output_type": "stream",
          "text": [
            "1 3 8 15 5 "
          ],
          "name": "stdout"
        }
      ]
    },
    {
      "cell_type": "code",
      "metadata": {
        "id": "ezVw5o4N9y7L",
        "colab_type": "code",
        "colab": {
          "base_uri": "https://localhost:8080/",
          "height": 34
        },
        "outputId": "bd3bd98e-86ca-4e50-c19f-7b597a6d1926"
      },
      "source": [
        "# Function \n",
        "# Input : List\n",
        "# Output : Formated Output\n",
        "# Test Case:\n",
        "#[1,6,9,4,16,19,22] -- 1 9 19 22 (If element is surrounded by even numbers print)\n",
        "def plot(x):\n",
        "    for i in range(len(x)):\n",
        "        if i==0 or i==len(x)-1:\n",
        "            print(x[i],end=\" \")\n",
        "        elif x[i-1]%2==0 and x[i+1]%2==0:\n",
        "            print(x[i],end=\" \")\n",
        "    return\n",
        "x=[1,6,9,4,16,19,22]\n",
        "plot(x)\n"
      ],
      "execution_count": 9,
      "outputs": [
        {
          "output_type": "stream",
          "text": [
            "1 9 19 22 "
          ],
          "name": "stdout"
        }
      ]
    },
    {
      "cell_type": "code",
      "metadata": {
        "id": "R4LgLtwTFz0N",
        "colab_type": "code",
        "colab": {
          "base_uri": "https://localhost:8080/",
          "height": 68
        },
        "outputId": "4da6763d-2655-4dc0-cf8a-7c819b0fba17"
      },
      "source": [
        "\n",
        "\n",
        "#*** Function to count the occurances of a character in a string\n",
        "def repeat(x,target):\n",
        "    c=0\n",
        "    for i in x:\n",
        "        if i==target:\n",
        "            c+=1\n",
        "    return c\n",
        "# (OR)\n",
        "#def repeat1(x,target):\n",
        "#    return x.count(target)\n",
        "n=str(input(\"enter a string-\"))\n",
        "m=str(input(\"enter target element-\"))\n",
        "repeat(n,m) "
      ],
      "execution_count": 10,
      "outputs": [
        {
          "output_type": "stream",
          "text": [
            "enter a string-HFGF\n",
            "enter target element-F\n"
          ],
          "name": "stdout"
        },
        {
          "output_type": "execute_result",
          "data": {
            "text/plain": [
              "2"
            ]
          },
          "metadata": {
            "tags": []
          },
          "execution_count": 10
        }
      ]
    }
  ]
}